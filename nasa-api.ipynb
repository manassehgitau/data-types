{
 "cells": [
  {
   "cell_type": "code",
   "execution_count": 2,
   "metadata": {},
   "outputs": [
    {
     "name": "stdout",
     "output_type": "stream",
     "text": [
      "Success 200\n",
      "\n",
      "Rich Addis\n",
      "\n",
      "2025-04-22\n",
      "What's different about this Moon? It's the terminators. In the featured image, you can't directly see any terminator -- the line that divides the light of day from the dark of night. That's because the featured image is a digital composite of many near-terminator lunar strips over a full Moon.  Terminator regions show the longest and most prominent shadows -- shadows which, by their contrast and length, allow a flat photograph to appear three-dimensional. The overlay images were taken over two weeks in early April.  Many of the Moon's craters stand out because of the shadows they all cast to the right. The image shows in graphic detail that the darker regions known as maria are not just darker than the rest of the Moon -- they are also flatter.    Dial-A-Moon: Find the Moon phase on your birthday this year\n",
      "Terminator Moon: A Moonscape of Shadows\n",
      "https://apod.nasa.gov/apod/image/2504/TerminatorMoon_Addis_960.jpg\n"
     ]
    }
   ],
   "source": [
    "import requests\n",
    "from decouple import config\n",
    "\n",
    "api_key =  config(\"NASA_API_KEY\")\n",
    "\n",
    "url = f\"https://api.nasa.gov/planetary/apod?api_key={api_key}\"\n",
    "\n",
    "response  = requests.get(url)\n",
    "\n",
    "if response.status_code == 200:\n",
    "    print(\"Success\", response.status_code)\n",
    "    data = response.json()\n",
    "    \n",
    "    print(data[\"copyright\"])\n",
    "    print(data[\"date\"])\n",
    "    print(data[\"explanation\"])\n",
    "    print(data[\"title\"])\n",
    "    print(data[\"url\"])\n",
    "\n",
    "else: \n",
    "    print(\"Failed!\", response.status_code)"
   ]
  }
 ],
 "metadata": {
  "kernelspec": {
   "display_name": ".venv",
   "language": "python",
   "name": "python3"
  },
  "language_info": {
   "codemirror_mode": {
    "name": "ipython",
    "version": 3
   },
   "file_extension": ".py",
   "mimetype": "text/x-python",
   "name": "python",
   "nbconvert_exporter": "python",
   "pygments_lexer": "ipython3",
   "version": "3.13.2"
  }
 },
 "nbformat": 4,
 "nbformat_minor": 2
}
