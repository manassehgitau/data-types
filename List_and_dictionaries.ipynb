{
 "cells": [
  {
   "cell_type": "markdown",
   "metadata": {},
   "source": [
    "### Ex 1\n",
    "Write a Python program to sum up all the items in a dictionary."
   ]
  },
  {
   "cell_type": "code",
   "execution_count": 1,
   "metadata": {},
   "outputs": [
    {
     "name": "stdout",
     "output_type": "stream",
     "text": [
      "62\n"
     ]
    }
   ],
   "source": [
    "d = {'key1': 1,'key2': 14,'key3': 47}\n",
    "print(sum(d.values()))"
   ]
  },
  {
   "cell_type": "markdown",
   "metadata": {},
   "source": [
    "### Ex 2\n",
    "Create a dictionary to store product information (name, price, quantity). Allow users to add, update, and remove items from the inventory."
   ]
  },
  {
   "cell_type": "code",
   "execution_count": 31,
   "metadata": {},
   "outputs": [
    {
     "name": "stdout",
     "output_type": "stream",
     "text": [
      "[{'name': 'bananas', 'price': 5, 'quantity': 20}, {'name': 'mangoes', 'price': 30, 'quantity': 40}]\n",
      "[{'name': 'bananas', 'price': 10, 'quantity': 20}, {'name': 'mangoes', 'price': 30, 'quantity': 40}]\n",
      "[{'name': 'bananas', 'price': 10, 'quantity': 20, 'spoilt': True}, {'name': 'mangoes', 'price': 30, 'quantity': 40}]\n",
      "None\n",
      "[{'name': 'mangoes', 'price': 30, 'quantity': 40}]\n"
     ]
    }
   ],
   "source": [
    "product_info = [{\n",
    "    \"name\": \"bananas\",\n",
    "    \"price\": 5,\n",
    "    \"quantity\": 20\n",
    "}]\n",
    "\n",
    "def add_item(name, price, quantity):\n",
    "    product_info.append({\n",
    "        \"name\": name,\n",
    "        \"price\": price,\n",
    "        \"quantity\": quantity\n",
    "    })\n",
    "\n",
    "def update_item(name, change, value):\n",
    "    for product in product_info:\n",
    "        for item in product.items():\n",
    "            if name == item[1]:\n",
    "                product.update({change: value})\n",
    "            \n",
    "                if change not in item[0]:\n",
    "                    product.update({change: value})\n",
    "                    break\n",
    "\n",
    "\n",
    "def get_item(name):\n",
    "    for product in product_info:\n",
    "        for item in product.items():\n",
    "            if name == item[1]:\n",
    "                return product\n",
    "                    \n",
    "\n",
    "def remove_item(name):\n",
    "    for product in product_info:\n",
    "        for item in product.items():\n",
    "            if name == item[1]:\n",
    "                product_info.remove(product)\n",
    "\n",
    "    \n",
    "add_item(\"mangoes\", 30, 40)\n",
    "print(product_info)\n",
    "\n",
    "update_item(\"bananas\", \"price\", 10)\n",
    "print(product_info)\n",
    "\n",
    "\n",
    "update_item(\"bananas\", \"spoilt\", True)\n",
    "print(product_info)\n",
    "\n",
    "print(get_item(\"apples\"))\n",
    "\n",
    "remove_item(\"bananas\")\n",
    "print(product_info)\n"
   ]
  },
  {
   "cell_type": "markdown",
   "metadata": {},
   "source": [
    "### Ex 3\n",
    "Create a dictionary where keys are departments in a company and values are nested dictionaries containing employee information (name, role)."
   ]
  },
  {
   "cell_type": "code",
   "execution_count": 21,
   "metadata": {},
   "outputs": [
    {
     "name": "stdout",
     "output_type": "stream",
     "text": [
      "Manager\n"
     ]
    }
   ],
   "source": [
    "company = {\n",
    "    \"Finance\": {\n",
    "        \"John\": \"Manager\",\n",
    "        \"Jane\": \"Assistant\"\n",
    "    },\n",
    "    \"IT\": {\n",
    "        \"James\": \"Head\",\n",
    "        \"Mary\": \"Developer\"\n",
    "    }\n",
    "}\n",
    "\n",
    "print(company[\"Finance\"][\"John\"])"
   ]
  }
 ],
 "metadata": {
  "kernelspec": {
   "display_name": "myvenv",
   "language": "python",
   "name": "python3"
  },
  "language_info": {
   "codemirror_mode": {
    "name": "ipython",
    "version": 3
   },
   "file_extension": ".py",
   "mimetype": "text/x-python",
   "name": "python",
   "nbconvert_exporter": "python",
   "pygments_lexer": "ipython3",
   "version": "3.13.2"
  }
 },
 "nbformat": 4,
 "nbformat_minor": 2
}
