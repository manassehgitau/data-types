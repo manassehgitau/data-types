{
 "cells": [
  {
   "cell_type": "code",
   "execution_count": 20,
   "metadata": {},
   "outputs": [
    {
     "name": "stdout",
     "output_type": "stream",
     "text": [
      "Failed! 404\n",
      "{'cod': '404', 'message': 'city not found'}\n"
     ]
    }
   ],
   "source": [
    "import requests\n",
    "from decouple import config\n",
    "\n",
    "city_name = input(\"Enter your city\")\n",
    "\n",
    "api_key = config(\"OPEN_WEATHER_API_KEY\")\n",
    "\n",
    "url =  f\"https://api.openweathermap.org/data/2.5/weather?q={city_name}&appid={api_key}&units=metric\"\n",
    "\n",
    "response = requests.get(url)\n",
    "\n",
    "if response.status_code != 200:\n",
    "    print(\"Failed!\", response.status_code)\n",
    "    print(response.json())\n",
    "else:\n",
    "    print(\"Fetch, Success\")\n",
    "    weather_data = response.json()\n",
    "    lat = weather_data['coord'][\"lat\"]\n",
    "    long = weather_data['coord'][\"lon\"]\n",
    "    print(f\"Latitude: {lat}, Longitude: {long}\")\n",
    "    gen_weather = weather_data[\"weather\"][0]\n",
    "    print(f\"Today's weather: {gen_weather[\"main\"], gen_weather['description']}\")\n",
    "\n",
    "    weather_conditions = weather_data['main']\n",
    "    print(f\"Temp: {weather_conditions['temp']}\")\n",
    "    print(f\"pressure: {weather_conditions['pressure']}\")\n",
    "    print(f\"humidity: {weather_conditions['humidity']}\")\n",
    "    print(f\"H above sea level: {weather_conditions['sea_level']}\")"
   ]
  }
 ],
 "metadata": {
  "kernelspec": {
   "display_name": ".venv",
   "language": "python",
   "name": "python3"
  },
  "language_info": {
   "codemirror_mode": {
    "name": "ipython",
    "version": 3
   },
   "file_extension": ".py",
   "mimetype": "text/x-python",
   "name": "python",
   "nbconvert_exporter": "python",
   "pygments_lexer": "ipython3",
   "version": "3.13.2"
  }
 },
 "nbformat": 4,
 "nbformat_minor": 2
}
