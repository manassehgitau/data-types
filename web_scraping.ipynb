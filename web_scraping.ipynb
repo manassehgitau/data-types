{
 "cells": [
  {
   "cell_type": "markdown",
   "metadata": {},
   "source": [
    "### Web Scraping\n",
    "- Check for access to a site - 200 status code\n",
    "- get data in html\n",
    "- get text data as a whole\n",
    "- filter data to display specific data e.g quotes - title, author values\n",
    "- access data with html different selectors and tags\n",
    "- save data to csv file\n",
    "- get data from all pages\n",
    "- save data from all pages to csv\n",
    "- scrape data using selenium automation tool"
   ]
  },
  {
   "cell_type": "code",
   "execution_count": 12,
   "metadata": {},
   "outputs": [
    {
     "name": "stdout",
     "output_type": "stream",
     "text": [
      "200\n",
      "success\n",
      "text/html; charset=utf-8\n",
      "[]\n"
     ]
    }
   ],
   "source": [
    "import requests\n",
    "import re\n",
    "from bs4 import BeautifulSoup\n",
    "\n",
    "r = requests.get('https://quotes.toscrape.com/')\n",
    "print(r.status_code)\n",
    "# print(r.text)\n",
    "\n",
    "if \"blocked\" in r.text:\n",
    "    print(\"We have been blocked\")\n",
    "elif r.status_code == 200:\n",
    "   print(\"success\")\n",
    "\n",
    "print(r.headers.get(\"content-type\",\"unknown\"))\n",
    "\n",
    "texts = re.findall(r'\\$[0-9,.]+', r.text)\n",
    "print(texts)\n"
   ]
  },
  {
   "cell_type": "code",
   "execution_count": 27,
   "metadata": {},
   "outputs": [
    {
     "name": "stdout",
     "output_type": "stream",
     "text": [
      "Quote: “The world as we have created it is a process of our thinking. It cannot be changed without changing our thinking.”\n",
      " Author: Albert Einstein\n",
      "-----------------------------------------------------------\n",
      "Quote: “It is our choices, Harry, that show what we truly are, far more than our abilities.”\n",
      " Author: J.K. Rowling\n",
      "-----------------------------------------------------------\n",
      "Quote: “There are only two ways to live your life. One is as though nothing is a miracle. The other is as though everything is a miracle.”\n",
      " Author: Albert Einstein\n",
      "-----------------------------------------------------------\n",
      "Quote: “The person, be it gentleman or lady, who has not pleasure in a good novel, must be intolerably stupid.”\n",
      " Author: Jane Austen\n",
      "-----------------------------------------------------------\n",
      "Quote: “Imperfection is beauty, madness is genius and it's better to be absolutely ridiculous than absolutely boring.”\n",
      " Author: Marilyn Monroe\n",
      "-----------------------------------------------------------\n",
      "Quote: “Try not to become a man of success. Rather become a man of value.”\n",
      " Author: Albert Einstein\n",
      "-----------------------------------------------------------\n",
      "Quote: “It is better to be hated for what you are than to be loved for what you are not.”\n",
      " Author: André Gide\n",
      "-----------------------------------------------------------\n",
      "Quote: “I have not failed. I've just found 10,000 ways that won't work.”\n",
      " Author: Thomas A. Edison\n",
      "-----------------------------------------------------------\n",
      "Quote: “A woman is like a tea bag; you never know how strong it is until it's in hot water.”\n",
      " Author: Eleanor Roosevelt\n",
      "-----------------------------------------------------------\n",
      "Quote: “A day without sunshine is like, you know, night.”\n",
      " Author: Steve Martin\n",
      "-----------------------------------------------------------\n"
     ]
    }
   ],
   "source": [
    "soup = BeautifulSoup(r.text, \"html.parser\")\n",
    "# print(soup)\n",
    "\n",
    "links = soup.find_all(\"a\")\n",
    "# print(links)\n",
    "\n",
    "quotes = soup.find_all(\"div\", \"quote\")\n",
    "# print(quotes)\n",
    "\n",
    "for quote in quotes:\n",
    "    text = quote.find(\"span\", class_= \"text\").get_text()\n",
    "    author = quote.find(\"small\", class_=\"author\").get_text()\n",
    "    print(f\"Quote: {text}\\nAuthor: {author}\")\n",
    "    print(\"-----------------------------------------------------------\")\n",
    "\n"
   ]
  },
  {
   "cell_type": "code",
   "execution_count": 101,
   "metadata": {},
   "outputs": [
    {
     "name": "stdout",
     "output_type": "stream",
     "text": [
      "All Quotes saved to quotes.csv\n"
     ]
    }
   ],
   "source": [
    "import csv \n",
    "import requests\n",
    "from bs4 import BeautifulSoup\n",
    "\n",
    "base_url = 'https://quotes.toscrape.com/page/{}/'\n",
    "\n",
    "csv_file= \"quotes.csv\"\n",
    "with open(csv_file, mode='w', newline=\"\", encoding=\"utf-8\") as file:\n",
    "    writer = csv.writer(file)\n",
    "    writer.writerow([\"Quote\", \"Author\"])\n",
    "\n",
    "    page = 1\n",
    "    while True:\n",
    "        url = base_url.format(page)\n",
    "        response = requests.get(url)\n",
    "\n",
    "        if response.status_code != 200:\n",
    "            print(f\"Error to retrieve page {page}. status code: {response.status_code}\")\n",
    "            break\n",
    "\n",
    "        soup = BeautifulSoup(response.text, 'html.parser')\n",
    "        quotes= soup.select(\".quote\")\n",
    "\n",
    "        if not quotes:\n",
    "            break\n",
    "\n",
    "        for quote in quotes:\n",
    "            text = quote.select_one(\".text\").get_text()\n",
    "            author = quote.select_one(\".author\").get_text()\n",
    "            writer.writerow([text, author])\n",
    "        page += 1\n",
    "\n",
    "print(f\"All Quotes saved to {csv_file}\")\n"
   ]
  },
  {
   "cell_type": "markdown",
   "metadata": {},
   "source": [
    "### toscrape Books"
   ]
  },
  {
   "cell_type": "code",
   "execution_count": 60,
   "metadata": {},
   "outputs": [
    {
     "name": "stdout",
     "output_type": "stream",
     "text": [
      "Success\n",
      "\n",
      "    Book Name: Tipping The Velvet\n",
      "    price: Â£53.74\n",
      "    inStock: In stock (20 available)\n",
      "    image_url: ../../media/cache/08/e9/08e94f3731d7d6b760dfbfbc02ca5c62.jpg\n",
      "      \n"
     ]
    }
   ],
   "source": [
    "response = requests.get('https://books.toscrape.com/catalogue/tipping-the-velvet_999/index.html')\n",
    "\n",
    "if response.status_code == 200:\n",
    "    print(\"Success\")\n",
    "    \n",
    "    # Test if you can get the text\n",
    "    # print(response.text)\n",
    "\n",
    "soup = BeautifulSoup(response.text, \"html.parser\")\n",
    "product_details = soup.select(\".product_page\")\n",
    "# print(product_details)\n",
    "\n",
    "image_url = soup.find(\"div\", class_=\"item active\").find(\"img\").get('src')\n",
    "# print(image_url)\n",
    "\n",
    "product_details = soup.find(\"div\", class_=\"product_main\")\n",
    "\n",
    "product_name = product_details.find(\"h1\").get_text()\n",
    "# print(product_name)\n",
    "\n",
    "product_price = product_details.select_one(\".price_color\").get_text()\n",
    "# print(product_price)\n",
    "\n",
    "product_in_stock = product_details.find(\"p\", class_=\"instock availability\").get_text().strip()\n",
    "# print(product_in_stock)\n",
    "\n",
    "product_description = product_details.find_all(\"p\")\n",
    "# print(product_description)\n",
    "\n",
    "print(f'''\n",
    "    Book Name: {product_name.title()}\n",
    "    price: {product_price}\n",
    "    inStock: {product_in_stock}\n",
    "    image_url: {image_url}\n",
    "      ''')"
   ]
  },
  {
   "cell_type": "markdown",
   "metadata": {},
   "source": [
    "### get all books"
   ]
  },
  {
   "cell_type": "code",
   "execution_count": 108,
   "metadata": {},
   "outputs": [
    {
     "name": "stdout",
     "output_type": "stream",
     "text": [
      "Success\n",
      "Name: A Light in the Attic\n",
      "price: Â£51.77\n",
      "in Stock: In stock\n",
      "-----------------------------------------------------------\n",
      "Name: Tipping the Velvet\n",
      "price: Â£53.74\n",
      "in Stock: In stock\n",
      "-----------------------------------------------------------\n",
      "Name: Soumission\n",
      "price: Â£50.10\n",
      "in Stock: In stock\n",
      "-----------------------------------------------------------\n",
      "Name: Sharp Objects\n",
      "price: Â£47.82\n",
      "in Stock: In stock\n",
      "-----------------------------------------------------------\n",
      "Name: Sapiens: A Brief History of Humankind\n",
      "price: Â£54.23\n",
      "in Stock: In stock\n",
      "-----------------------------------------------------------\n",
      "Name: The Requiem Red\n",
      "price: Â£22.65\n",
      "in Stock: In stock\n",
      "-----------------------------------------------------------\n",
      "Name: The Dirty Little Secrets of Getting Your Dream Job\n",
      "price: Â£33.34\n",
      "in Stock: In stock\n",
      "-----------------------------------------------------------\n",
      "Name: The Coming Woman: A Novel Based on the Life of the Infamous Feminist, Victoria Woodhull\n",
      "price: Â£17.93\n",
      "in Stock: In stock\n",
      "-----------------------------------------------------------\n",
      "Name: The Boys in the Boat: Nine Americans and Their Epic Quest for Gold at the 1936 Berlin Olympics\n",
      "price: Â£22.60\n",
      "in Stock: In stock\n",
      "-----------------------------------------------------------\n",
      "Name: The Black Maria\n",
      "price: Â£52.15\n",
      "in Stock: In stock\n",
      "-----------------------------------------------------------\n",
      "Name: Starving Hearts (Triangular Trade Trilogy, #1)\n",
      "price: Â£13.99\n",
      "in Stock: In stock\n",
      "-----------------------------------------------------------\n",
      "Name: Shakespeare's Sonnets\n",
      "price: Â£20.66\n",
      "in Stock: In stock\n",
      "-----------------------------------------------------------\n",
      "Name: Set Me Free\n",
      "price: Â£17.46\n",
      "in Stock: In stock\n",
      "-----------------------------------------------------------\n",
      "Name: Scott Pilgrim's Precious Little Life (Scott Pilgrim #1)\n",
      "price: Â£52.29\n",
      "in Stock: In stock\n",
      "-----------------------------------------------------------\n",
      "Name: Rip it Up and Start Again\n",
      "price: Â£35.02\n",
      "in Stock: In stock\n",
      "-----------------------------------------------------------\n",
      "Name: Our Band Could Be Your Life: Scenes from the American Indie Underground, 1981-1991\n",
      "price: Â£57.25\n",
      "in Stock: In stock\n",
      "-----------------------------------------------------------\n",
      "Name: Olio\n",
      "price: Â£23.88\n",
      "in Stock: In stock\n",
      "-----------------------------------------------------------\n",
      "Name: Mesaerion: The Best Science Fiction Stories 1800-1849\n",
      "price: Â£37.59\n",
      "in Stock: In stock\n",
      "-----------------------------------------------------------\n",
      "Name: Libertarianism for Beginners\n",
      "price: Â£51.33\n",
      "in Stock: In stock\n",
      "-----------------------------------------------------------\n",
      "Name: It's Only the Himalayas\n",
      "price: Â£45.17\n",
      "in Stock: In stock\n",
      "-----------------------------------------------------------\n"
     ]
    }
   ],
   "source": [
    "response = requests.get('https://books.toscrape.com/')\n",
    "\n",
    "if response.status_code == 200:\n",
    "    print(\"Success\")\n",
    "    \n",
    "    # Test if you can get the text\n",
    "    # print(response.text)\n",
    "\n",
    "\n",
    "soup = BeautifulSoup(response.text, \"html.parser\")\n",
    "all_books = soup.find('ol', class_=\"row\").find_all(\"li\", class_=\"col-xs-6 col-sm-4 col-md-3 col-lg-3\" )\n",
    "# print(all_books)\n",
    "\n",
    "for book in all_books:\n",
    "    book_name = book.find(\"h3\").find(\"a\").get(\"title\")\n",
    "    print(f\"Name: {book_name}\")\n",
    "    book_price = book.find(\"div\", \"product_price\").find(\"p\", \"price_color\").get_text()\n",
    "    print(f\"price: {book_price}\")\n",
    "    book_in_stock = book.find(\"div\", \"product_price\").find(\"p\", class_=\"instock availability\").get_text().strip()\n",
    "    print(f\"in Stock: {book_in_stock}\")\n",
    "    print(\"-----------------------------------------------------------\\n\")\n",
    "\n",
    "\n",
    "    \n",
    "\n",
    "\n"
   ]
  },
  {
   "cell_type": "code",
   "execution_count": null,
   "metadata": {},
   "outputs": [
    {
     "name": "stdout",
     "output_type": "stream",
     "text": [
      "200\n"
     ]
    }
   ],
   "source": [
    "import requests\n",
    "import re\n",
    "\n",
    "page = 1\n",
    "while True:\n",
    "    r = requests.get(f'https://quotes.toscrape.com/page/{page}/')\n",
    "    print(r.status_code)\n",
    "    \n",
    "    quotes = soup.select(\".quote\")\n",
    "    # print(quotes)\n",
    "    if not quotes:\n",
    "        break\n",
    "\n",
    "\n",
    "    for quote in quotes:\n",
    "        text = quote.select_one(\".text\").get_text()\n",
    "        author = quote.select_one(\".author\").get_text()\n",
    "        print(f\"Quote: {text}\\nAuthor: {author}\")\n",
    "        print(\"-----------------------------------------------------------\")\n",
    "    \n",
    "    page += 1\n"
   ]
  },
  {
   "cell_type": "code",
   "execution_count": 112,
   "metadata": {},
   "outputs": [
    {
     "name": "stdout",
     "output_type": "stream",
     "text": [
      "Error to retrieve page 51. status code: 404\n",
      "All Quotes saved to books.csv\n"
     ]
    }
   ],
   "source": [
    "import csv \n",
    "import requests\n",
    "from bs4 import BeautifulSoup\n",
    "\n",
    "books_base_url = 'https://books.toscrape.com/catalogue/page-{}.html'\n",
    "csv_file = \"books.csv\"\n",
    "\n",
    "with open(csv_file, mode='w', newline=\"\", encoding=\"utf-8\") as file:\n",
    "    writer = csv.writer(file)\n",
    "    writer.writerow([\"Name\", \"Price\", \"inStock\"])\n",
    "\n",
    "    page = 1\n",
    "    while True:\n",
    "        url = books_base_url.format(page)\n",
    "        response = requests.get(url)\n",
    "\n",
    "        if response.status_code != 200:\n",
    "            print(f\"Error to retrieve page {page}. status code: {response.status_code}\")\n",
    "            break\n",
    "\n",
    "        soup = BeautifulSoup(response.text, 'html.parser')\n",
    "        books= soup.find('ol', class_=\"row\").find_all(\"li\", class_=\"col-xs-6 col-sm-4 col-md-3 col-lg-3\" )\n",
    "\n",
    "        if not books:\n",
    "            break\n",
    "\n",
    "        for book in all_books:\n",
    "            book_name = book.find(\"h3\").find(\"a\").get(\"title\")\n",
    "            book_price = book.find(\"div\", \"product_price\").find(\"p\", \"price_color\").get_text()\n",
    "            book_in_stock = book.find(\"div\", \"product_price\").find(\"p\", class_=\"instock availability\").get_text().strip()\n",
    "            writer.writerow([book_name, book_price, book_in_stock])\n",
    "        \n",
    "        page += 1\n",
    "print(f\"All Quotes saved to {csv_file}\")\n"
   ]
  },
  {
   "cell_type": "code",
   "execution_count": null,
   "metadata": {},
   "outputs": [],
   "source": []
  }
 ],
 "metadata": {
  "kernelspec": {
   "display_name": "myvenv",
   "language": "python",
   "name": "python3"
  },
  "language_info": {
   "codemirror_mode": {
    "name": "ipython",
    "version": 3
   },
   "file_extension": ".py",
   "mimetype": "text/x-python",
   "name": "python",
   "nbconvert_exporter": "python",
   "pygments_lexer": "ipython3",
   "version": "3.13.2"
  }
 },
 "nbformat": 4,
 "nbformat_minor": 2
}
