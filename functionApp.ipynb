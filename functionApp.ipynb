{
 "cells": [
  {
   "cell_type": "markdown",
   "metadata": {},
   "source": [
    "### Exe 1\n",
    "Create a function that will determine whether a number is positive or negative."
   ]
  },
  {
   "cell_type": "code",
   "execution_count": null,
   "metadata": {},
   "outputs": [
    {
     "name": "stdout",
     "output_type": "stream",
     "text": [
      "0 is a positive number\n"
     ]
    }
   ],
   "source": [
    "def is_positive(number):\n",
    "    if number <= 0:\n",
    "        return False\n",
    "    else:\n",
    "        return True\n",
    "    \n",
    "\n",
    "num = -20\n",
    "if is_positive(num):\n",
    "    print(f\"{num} is a positive number\")\n",
    "else:\n",
    "    print(f\"{num} is a negative number\")"
   ]
  },
  {
   "cell_type": "markdown",
   "metadata": {},
   "source": [
    "### Exe 2\n",
    "Write functions to calculate the area of different shapes like square (area_of_square(side_length)), rectangle (area_of_rectangle(length, width)), and circle (area_of_circle(radius))."
   ]
  },
  {
   "cell_type": "code",
   "execution_count": 17,
   "metadata": {},
   "outputs": [
    {
     "name": "stdout",
     "output_type": "stream",
     "text": [
      "Area of Square: 9\n",
      "Area of rectangle: 12\n",
      "Area of circle: 153.94\n",
      "Area of triangle: 8.94\n",
      "Area of triangle: 9.0\n"
     ]
    }
   ],
   "source": [
    "import math\n",
    "\n",
    "def area_of_square(side):\n",
    "    return side * side\n",
    "\n",
    "def area_of_rectangle(length, width):\n",
    "    return length * width\n",
    "\n",
    "def area_of_circle(radius):\n",
    "    return round((math.pi * math.pow(radius, 2)), 2)\n",
    "\n",
    "def area_of_triangle_using_sides(a, b, c):\n",
    "    semi_perimeter = (a + b + c) / 2\n",
    "    area = math.sqrt(semi_perimeter * (semi_perimeter - a) * (semi_perimeter - b) * (semi_perimeter - c))\n",
    "    return round(area, 2)\n",
    "\n",
    "def area_of_triangle_using_pythagoras(b, h):\n",
    "    return 0.5 * b * h\n",
    "\n",
    "\n",
    "print(\"Area of Square:\", area_of_square(3))\n",
    "print(\"Area of rectangle:\", area_of_rectangle(3, 4))\n",
    "print(\"Area of circle:\", area_of_circle(7))\n",
    "print(\"Area of triangle:\", area_of_triangle_using_sides(3, 6, 7))\n",
    "print(\"Area of triangle:\", area_of_triangle_using_pythagoras(3, 6))"
   ]
  },
  {
   "cell_type": "markdown",
   "metadata": {},
   "source": [
    "### Exe 3\n",
    "Write a function called calculate_grade that takes a score as input and returns the corresponding letter grade (A, B, C, D, F) based on a grading scale (e.g., A: 90-100, B: 80-89, etc.)."
   ]
  },
  {
   "cell_type": "code",
   "execution_count": 12,
   "metadata": {},
   "outputs": [
    {
     "name": "stdout",
     "output_type": "stream",
     "text": [
      "Grade: A\n"
     ]
    }
   ],
   "source": [
    "def calculate_grade(score):\n",
    "    if score <= 100 and score >= 90:\n",
    "        return 'A'\n",
    "    elif score <= 89 and score >= 80:\n",
    "        return 'B'\n",
    "    elif score <= 79 and score >= 70:\n",
    "        return 'C'\n",
    "    elif score <= 69 and score >= 60:\n",
    "        return 'D'\n",
    "    elif score <= 59 and score >= 0:\n",
    "        return 'F'\n",
    "    else:\n",
    "        return 'unknown'\n",
    "    \n",
    "score = 99\n",
    "print(\"Grade:\", calculate_grade(score))"
   ]
  }
 ],
 "metadata": {
  "kernelspec": {
   "display_name": "myvenv",
   "language": "python",
   "name": "python3"
  },
  "language_info": {
   "codemirror_mode": {
    "name": "ipython",
    "version": 3
   },
   "file_extension": ".py",
   "mimetype": "text/x-python",
   "name": "python",
   "nbconvert_exporter": "python",
   "pygments_lexer": "ipython3",
   "version": "3.13.2"
  }
 },
 "nbformat": 4,
 "nbformat_minor": 2
}
